{
  "cells": [
    {
      "cell_type": "markdown",
      "metadata": {
        "id": "Gfs1IuvVrkH5"
      },
      "source": [
        "### Fine Tuning"
      ]
    },
    {
      "cell_type": "code",
      "execution_count": null,
      "metadata": {
        "colab": {
          "base_uri": "https://localhost:8080/"
        },
        "id": "ev7IpMbrmJ0w",
        "outputId": "ef0843ce-904b-41b0-fc6c-d4f3b74c0cb7"
      },
      "outputs": [
        {
          "output_type": "stream",
          "name": "stdout",
          "text": [
            "Collecting gradientai\n",
            "  Downloading gradientai-1.11.0-py3-none-any.whl (375 kB)\n",
            "\u001b[2K     \u001b[90m━━━━━━━━━━━━━━━━━━━━━━━━━━━━━━━━━━━━━━━━\u001b[0m \u001b[32m375.5/375.5 kB\u001b[0m \u001b[31m8.1 MB/s\u001b[0m eta \u001b[36m0:00:00\u001b[0m\n",
            "\u001b[?25hCollecting aenum>=3.1.11 (from gradientai)\n",
            "  Downloading aenum-3.1.15-py3-none-any.whl (137 kB)\n",
            "\u001b[2K     \u001b[90m━━━━━━━━━━━━━━━━━━━━━━━━━━━━━━━━━━━━━━━━\u001b[0m \u001b[32m137.6/137.6 kB\u001b[0m \u001b[31m17.5 MB/s\u001b[0m eta \u001b[36m0:00:00\u001b[0m\n",
            "\u001b[?25hCollecting pydantic<2.0.0,>=1.10.5 (from gradientai)\n",
            "  Downloading pydantic-1.10.15-cp310-cp310-manylinux_2_17_x86_64.manylinux2014_x86_64.whl (3.1 MB)\n",
            "\u001b[2K     \u001b[90m━━━━━━━━━━━━━━━━━━━━━━━━━━━━━━━━━━━━━━━━\u001b[0m \u001b[32m3.1/3.1 MB\u001b[0m \u001b[31m69.1 MB/s\u001b[0m eta \u001b[36m0:00:00\u001b[0m\n",
            "\u001b[?25hRequirement already satisfied: python-dateutil>=2.8.2 in /usr/local/lib/python3.10/dist-packages (from gradientai) (2.8.2)\n",
            "Requirement already satisfied: urllib3>=1.25.3 in /usr/local/lib/python3.10/dist-packages (from gradientai) (2.0.7)\n",
            "Requirement already satisfied: typing-extensions>=4.2.0 in /usr/local/lib/python3.10/dist-packages (from pydantic<2.0.0,>=1.10.5->gradientai) (4.11.0)\n",
            "Requirement already satisfied: six>=1.5 in /usr/local/lib/python3.10/dist-packages (from python-dateutil>=2.8.2->gradientai) (1.16.0)\n",
            "Installing collected packages: aenum, pydantic, gradientai\n",
            "  Attempting uninstall: pydantic\n",
            "    Found existing installation: pydantic 2.7.0\n",
            "    Uninstalling pydantic-2.7.0:\n",
            "      Successfully uninstalled pydantic-2.7.0\n",
            "Successfully installed aenum-3.1.15 gradientai-1.11.0 pydantic-1.10.15\n"
          ]
        }
      ],
      "source": [
        "!pip install gradientai --upgrade"
      ]
    },
    {
      "cell_type": "code",
      "execution_count": null,
      "metadata": {
        "id": "fxjhpdiProLv"
      },
      "outputs": [],
      "source": [
        "import os\n",
        "os.environ['GRADIENT_ACCESS_TOKEN'] = \"ouGMDalyBybegIRtDVhjRjkbXOA9WbQd\"\n",
        "os.environ['GRADIENT_WORKSPACE_ID'] = \"f63f63da-c334-4867-a5ff-74253aca4015_workspace\""
      ]
    },
    {
      "cell_type": "code",
      "execution_count": null,
      "metadata": {
        "id": "-MTbL5SGsIWC"
      },
      "outputs": [],
      "source": [
        "import pandas as pd"
      ]
    },
    {
      "cell_type": "code",
      "execution_count": null,
      "metadata": {
        "id": "-KEX9V25DwoU"
      },
      "outputs": [],
      "source": [
        "import requests\n",
        "from bs4 import BeautifulSoup\n",
        "import pandas as pd"
      ]
    },
    {
      "cell_type": "code",
      "execution_count": null,
      "metadata": {
        "id": "9n4icmKK3sQP"
      },
      "outputs": [],
      "source": [
        "def scrape_dialogues(url):\n",
        "    headers = {'User-Agent': 'Mozilla/5.0'}\n",
        "    response = requests.get(url, headers=headers)\n",
        "\n",
        "    # Check for a successful request\n",
        "    if response.status_code == 200:\n",
        "        soup = BeautifulSoup(response.content, 'html.parser')\n",
        "        dialogue_sections = soup.find_all('span', class_='mw-headline')\n",
        "\n",
        "        # List to hold all dialogues\n",
        "        dialogues = []\n",
        "\n",
        "        # Extracting dialogues\n",
        "        for section in dialogue_sections:\n",
        "            section_title = section.get_text()\n",
        "            sibling = section.find_next(['ul', 'ol'])\n",
        "            if sibling:\n",
        "                items = sibling.find_all('li')\n",
        "                for item in items:\n",
        "                    dialogues.append({'Section': section_title, 'Dialogue': item.get_text()})\n",
        "\n",
        "        # Create DataFrame\n",
        "        df_dialogues = pd.DataFrame(dialogues)\n",
        "        return df_dialogues\n",
        "    else:\n",
        "        print(f\"Failed to retrieve the webpage, status code: {response.status_code}\")\n",
        "        return pd.DataFrame()  # Return an empty DataFrame if the request was not successful\n"
      ]
    },
    {
      "cell_type": "code",
      "execution_count": null,
      "metadata": {
        "id": "MTxe1VPFL_HC"
      },
      "outputs": [],
      "source": [
        "trevor = scrape_dialogues('https://grand-theft-auto-v-dialogue.fandom.com/wiki/Trevor_Philips_Dialogue')"
      ]
    },
    {
      "cell_type": "code",
      "execution_count": null,
      "metadata": {
        "id": "K7wMdZs24BQS"
      },
      "outputs": [],
      "source": [
        "trevor = trevor[trevor['Dialogue'] != '']"
      ]
    },
    {
      "cell_type": "code",
      "execution_count": null,
      "metadata": {
        "id": "7hpgEob57JjM"
      },
      "outputs": [],
      "source": [
        "trevor.reset_index(inplace = True)"
      ]
    },
    {
      "cell_type": "code",
      "execution_count": null,
      "metadata": {
        "colab": {
          "base_uri": "https://localhost:8080/",
          "height": 423
        },
        "id": "PuTpbWO97nHw",
        "outputId": "75afaa6b-3d64-442b-ec80-e291ba111b79"
      },
      "outputs": [
        {
          "output_type": "execute_result",
          "data": {
            "text/plain": [
              "                     Section  \\\n",
              "0                   Greeting   \n",
              "1                   Greeting   \n",
              "2                   Greeting   \n",
              "3                  Questions   \n",
              "4                  Questions   \n",
              "..                       ...   \n",
              "618  Huffing Gas (Safehouse)   \n",
              "619  Huffing Gas (Safehouse)   \n",
              "620  Huffing Gas (Safehouse)   \n",
              "621  Huffing Gas (Safehouse)   \n",
              "622  Huffing Gas (Safehouse)   \n",
              "\n",
              "                                              Dialogue  \n",
              "0                                           Hey there.  \n",
              "1                                         Hello there.  \n",
              "2                                   How are you doing?  \n",
              "3                                      How's it going?  \n",
              "4                                 What's your problem?  \n",
              "..                                                 ...  \n",
              "618  Stuff simply does nothing for me. Nothing at a...  \n",
              "619  Oh man, oh man, oh man... oh man... I'm not to...  \n",
              "620                      Mother!!! Mother!!! Mother!!!  \n",
              "621  Man, that stuff's pointless. All it does is ma...  \n",
              "622  Huh, this stuff does nothing to me, I'm made o...  \n",
              "\n",
              "[623 rows x 2 columns]"
            ],
            "text/html": [
              "\n",
              "  <div id=\"df-d3942209-4057-4875-8801-889021e7b2cd\" class=\"colab-df-container\">\n",
              "    <div>\n",
              "<style scoped>\n",
              "    .dataframe tbody tr th:only-of-type {\n",
              "        vertical-align: middle;\n",
              "    }\n",
              "\n",
              "    .dataframe tbody tr th {\n",
              "        vertical-align: top;\n",
              "    }\n",
              "\n",
              "    .dataframe thead th {\n",
              "        text-align: right;\n",
              "    }\n",
              "</style>\n",
              "<table border=\"1\" class=\"dataframe\">\n",
              "  <thead>\n",
              "    <tr style=\"text-align: right;\">\n",
              "      <th></th>\n",
              "      <th>Section</th>\n",
              "      <th>Dialogue</th>\n",
              "    </tr>\n",
              "  </thead>\n",
              "  <tbody>\n",
              "    <tr>\n",
              "      <th>0</th>\n",
              "      <td>Greeting</td>\n",
              "      <td>Hey there.</td>\n",
              "    </tr>\n",
              "    <tr>\n",
              "      <th>1</th>\n",
              "      <td>Greeting</td>\n",
              "      <td>Hello there.</td>\n",
              "    </tr>\n",
              "    <tr>\n",
              "      <th>2</th>\n",
              "      <td>Greeting</td>\n",
              "      <td>How are you doing?</td>\n",
              "    </tr>\n",
              "    <tr>\n",
              "      <th>3</th>\n",
              "      <td>Questions</td>\n",
              "      <td>How's it going?</td>\n",
              "    </tr>\n",
              "    <tr>\n",
              "      <th>4</th>\n",
              "      <td>Questions</td>\n",
              "      <td>What's your problem?</td>\n",
              "    </tr>\n",
              "    <tr>\n",
              "      <th>...</th>\n",
              "      <td>...</td>\n",
              "      <td>...</td>\n",
              "    </tr>\n",
              "    <tr>\n",
              "      <th>618</th>\n",
              "      <td>Huffing Gas (Safehouse)</td>\n",
              "      <td>Stuff simply does nothing for me. Nothing at a...</td>\n",
              "    </tr>\n",
              "    <tr>\n",
              "      <th>619</th>\n",
              "      <td>Huffing Gas (Safehouse)</td>\n",
              "      <td>Oh man, oh man, oh man... oh man... I'm not to...</td>\n",
              "    </tr>\n",
              "    <tr>\n",
              "      <th>620</th>\n",
              "      <td>Huffing Gas (Safehouse)</td>\n",
              "      <td>Mother!!! Mother!!! Mother!!!</td>\n",
              "    </tr>\n",
              "    <tr>\n",
              "      <th>621</th>\n",
              "      <td>Huffing Gas (Safehouse)</td>\n",
              "      <td>Man, that stuff's pointless. All it does is ma...</td>\n",
              "    </tr>\n",
              "    <tr>\n",
              "      <th>622</th>\n",
              "      <td>Huffing Gas (Safehouse)</td>\n",
              "      <td>Huh, this stuff does nothing to me, I'm made o...</td>\n",
              "    </tr>\n",
              "  </tbody>\n",
              "</table>\n",
              "<p>623 rows × 2 columns</p>\n",
              "</div>\n",
              "    <div class=\"colab-df-buttons\">\n",
              "\n",
              "  <div class=\"colab-df-container\">\n",
              "    <button class=\"colab-df-convert\" onclick=\"convertToInteractive('df-d3942209-4057-4875-8801-889021e7b2cd')\"\n",
              "            title=\"Convert this dataframe to an interactive table.\"\n",
              "            style=\"display:none;\">\n",
              "\n",
              "  <svg xmlns=\"http://www.w3.org/2000/svg\" height=\"24px\" viewBox=\"0 -960 960 960\">\n",
              "    <path d=\"M120-120v-720h720v720H120Zm60-500h600v-160H180v160Zm220 220h160v-160H400v160Zm0 220h160v-160H400v160ZM180-400h160v-160H180v160Zm440 0h160v-160H620v160ZM180-180h160v-160H180v160Zm440 0h160v-160H620v160Z\"/>\n",
              "  </svg>\n",
              "    </button>\n",
              "\n",
              "  <style>\n",
              "    .colab-df-container {\n",
              "      display:flex;\n",
              "      gap: 12px;\n",
              "    }\n",
              "\n",
              "    .colab-df-convert {\n",
              "      background-color: #E8F0FE;\n",
              "      border: none;\n",
              "      border-radius: 50%;\n",
              "      cursor: pointer;\n",
              "      display: none;\n",
              "      fill: #1967D2;\n",
              "      height: 32px;\n",
              "      padding: 0 0 0 0;\n",
              "      width: 32px;\n",
              "    }\n",
              "\n",
              "    .colab-df-convert:hover {\n",
              "      background-color: #E2EBFA;\n",
              "      box-shadow: 0px 1px 2px rgba(60, 64, 67, 0.3), 0px 1px 3px 1px rgba(60, 64, 67, 0.15);\n",
              "      fill: #174EA6;\n",
              "    }\n",
              "\n",
              "    .colab-df-buttons div {\n",
              "      margin-bottom: 4px;\n",
              "    }\n",
              "\n",
              "    [theme=dark] .colab-df-convert {\n",
              "      background-color: #3B4455;\n",
              "      fill: #D2E3FC;\n",
              "    }\n",
              "\n",
              "    [theme=dark] .colab-df-convert:hover {\n",
              "      background-color: #434B5C;\n",
              "      box-shadow: 0px 1px 3px 1px rgba(0, 0, 0, 0.15);\n",
              "      filter: drop-shadow(0px 1px 2px rgba(0, 0, 0, 0.3));\n",
              "      fill: #FFFFFF;\n",
              "    }\n",
              "  </style>\n",
              "\n",
              "    <script>\n",
              "      const buttonEl =\n",
              "        document.querySelector('#df-d3942209-4057-4875-8801-889021e7b2cd button.colab-df-convert');\n",
              "      buttonEl.style.display =\n",
              "        google.colab.kernel.accessAllowed ? 'block' : 'none';\n",
              "\n",
              "      async function convertToInteractive(key) {\n",
              "        const element = document.querySelector('#df-d3942209-4057-4875-8801-889021e7b2cd');\n",
              "        const dataTable =\n",
              "          await google.colab.kernel.invokeFunction('convertToInteractive',\n",
              "                                                    [key], {});\n",
              "        if (!dataTable) return;\n",
              "\n",
              "        const docLinkHtml = 'Like what you see? Visit the ' +\n",
              "          '<a target=\"_blank\" href=https://colab.research.google.com/notebooks/data_table.ipynb>data table notebook</a>'\n",
              "          + ' to learn more about interactive tables.';\n",
              "        element.innerHTML = '';\n",
              "        dataTable['output_type'] = 'display_data';\n",
              "        await google.colab.output.renderOutput(dataTable, element);\n",
              "        const docLink = document.createElement('div');\n",
              "        docLink.innerHTML = docLinkHtml;\n",
              "        element.appendChild(docLink);\n",
              "      }\n",
              "    </script>\n",
              "  </div>\n",
              "\n",
              "\n",
              "<div id=\"df-17f67059-a220-49ec-a0c9-34dceffc5532\">\n",
              "  <button class=\"colab-df-quickchart\" onclick=\"quickchart('df-17f67059-a220-49ec-a0c9-34dceffc5532')\"\n",
              "            title=\"Suggest charts\"\n",
              "            style=\"display:none;\">\n",
              "\n",
              "<svg xmlns=\"http://www.w3.org/2000/svg\" height=\"24px\"viewBox=\"0 0 24 24\"\n",
              "     width=\"24px\">\n",
              "    <g>\n",
              "        <path d=\"M19 3H5c-1.1 0-2 .9-2 2v14c0 1.1.9 2 2 2h14c1.1 0 2-.9 2-2V5c0-1.1-.9-2-2-2zM9 17H7v-7h2v7zm4 0h-2V7h2v10zm4 0h-2v-4h2v4z\"/>\n",
              "    </g>\n",
              "</svg>\n",
              "  </button>\n",
              "\n",
              "<style>\n",
              "  .colab-df-quickchart {\n",
              "      --bg-color: #E8F0FE;\n",
              "      --fill-color: #1967D2;\n",
              "      --hover-bg-color: #E2EBFA;\n",
              "      --hover-fill-color: #174EA6;\n",
              "      --disabled-fill-color: #AAA;\n",
              "      --disabled-bg-color: #DDD;\n",
              "  }\n",
              "\n",
              "  [theme=dark] .colab-df-quickchart {\n",
              "      --bg-color: #3B4455;\n",
              "      --fill-color: #D2E3FC;\n",
              "      --hover-bg-color: #434B5C;\n",
              "      --hover-fill-color: #FFFFFF;\n",
              "      --disabled-bg-color: #3B4455;\n",
              "      --disabled-fill-color: #666;\n",
              "  }\n",
              "\n",
              "  .colab-df-quickchart {\n",
              "    background-color: var(--bg-color);\n",
              "    border: none;\n",
              "    border-radius: 50%;\n",
              "    cursor: pointer;\n",
              "    display: none;\n",
              "    fill: var(--fill-color);\n",
              "    height: 32px;\n",
              "    padding: 0;\n",
              "    width: 32px;\n",
              "  }\n",
              "\n",
              "  .colab-df-quickchart:hover {\n",
              "    background-color: var(--hover-bg-color);\n",
              "    box-shadow: 0 1px 2px rgba(60, 64, 67, 0.3), 0 1px 3px 1px rgba(60, 64, 67, 0.15);\n",
              "    fill: var(--button-hover-fill-color);\n",
              "  }\n",
              "\n",
              "  .colab-df-quickchart-complete:disabled,\n",
              "  .colab-df-quickchart-complete:disabled:hover {\n",
              "    background-color: var(--disabled-bg-color);\n",
              "    fill: var(--disabled-fill-color);\n",
              "    box-shadow: none;\n",
              "  }\n",
              "\n",
              "  .colab-df-spinner {\n",
              "    border: 2px solid var(--fill-color);\n",
              "    border-color: transparent;\n",
              "    border-bottom-color: var(--fill-color);\n",
              "    animation:\n",
              "      spin 1s steps(1) infinite;\n",
              "  }\n",
              "\n",
              "  @keyframes spin {\n",
              "    0% {\n",
              "      border-color: transparent;\n",
              "      border-bottom-color: var(--fill-color);\n",
              "      border-left-color: var(--fill-color);\n",
              "    }\n",
              "    20% {\n",
              "      border-color: transparent;\n",
              "      border-left-color: var(--fill-color);\n",
              "      border-top-color: var(--fill-color);\n",
              "    }\n",
              "    30% {\n",
              "      border-color: transparent;\n",
              "      border-left-color: var(--fill-color);\n",
              "      border-top-color: var(--fill-color);\n",
              "      border-right-color: var(--fill-color);\n",
              "    }\n",
              "    40% {\n",
              "      border-color: transparent;\n",
              "      border-right-color: var(--fill-color);\n",
              "      border-top-color: var(--fill-color);\n",
              "    }\n",
              "    60% {\n",
              "      border-color: transparent;\n",
              "      border-right-color: var(--fill-color);\n",
              "    }\n",
              "    80% {\n",
              "      border-color: transparent;\n",
              "      border-right-color: var(--fill-color);\n",
              "      border-bottom-color: var(--fill-color);\n",
              "    }\n",
              "    90% {\n",
              "      border-color: transparent;\n",
              "      border-bottom-color: var(--fill-color);\n",
              "    }\n",
              "  }\n",
              "</style>\n",
              "\n",
              "  <script>\n",
              "    async function quickchart(key) {\n",
              "      const quickchartButtonEl =\n",
              "        document.querySelector('#' + key + ' button');\n",
              "      quickchartButtonEl.disabled = true;  // To prevent multiple clicks.\n",
              "      quickchartButtonEl.classList.add('colab-df-spinner');\n",
              "      try {\n",
              "        const charts = await google.colab.kernel.invokeFunction(\n",
              "            'suggestCharts', [key], {});\n",
              "      } catch (error) {\n",
              "        console.error('Error during call to suggestCharts:', error);\n",
              "      }\n",
              "      quickchartButtonEl.classList.remove('colab-df-spinner');\n",
              "      quickchartButtonEl.classList.add('colab-df-quickchart-complete');\n",
              "    }\n",
              "    (() => {\n",
              "      let quickchartButtonEl =\n",
              "        document.querySelector('#df-17f67059-a220-49ec-a0c9-34dceffc5532 button');\n",
              "      quickchartButtonEl.style.display =\n",
              "        google.colab.kernel.accessAllowed ? 'block' : 'none';\n",
              "    })();\n",
              "  </script>\n",
              "</div>\n",
              "    </div>\n",
              "  </div>\n"
            ],
            "application/vnd.google.colaboratory.intrinsic+json": {
              "type": "dataframe",
              "variable_name": "trevor",
              "summary": "{\n  \"name\": \"trevor\",\n  \"rows\": 623,\n  \"fields\": [\n    {\n      \"column\": \"Section\",\n      \"properties\": {\n        \"dtype\": \"category\",\n        \"num_unique_values\": 108,\n        \"samples\": [\n          \"Flirting With A Stripper\",\n          \"The Homeless\",\n          \"Angry\"\n        ],\n        \"semantic_type\": \"\",\n        \"description\": \"\"\n      }\n    },\n    {\n      \"column\": \"Dialogue\",\n      \"properties\": {\n        \"dtype\": \"string\",\n        \"num_unique_values\": 591,\n        \"samples\": [\n          \"Please, what I\\u2019m about to do, I don\\u2019t want witnesses.\",\n          \"Stuff simply does nothing for me. Nothing at all. Not a thing, I'm totally fine. Fine, and suicidal.\",\n          \"COME ON TOUGH GUYS, LET'S DO THIS!\"\n        ],\n        \"semantic_type\": \"\",\n        \"description\": \"\"\n      }\n    }\n  ]\n}"
            }
          },
          "metadata": {},
          "execution_count": 10
        }
      ],
      "source": [
        "trevor = trevor.drop(columns = 'index')\n",
        "trevor"
      ]
    },
    {
      "cell_type": "code",
      "source": [
        "import spacy\n",
        "from collections import Counter\n",
        "import matplotlib.pyplot as plt\n",
        "from nltk.util import bigrams, trigrams\n",
        "from nltk import FreqDist\n",
        "from nltk.tokenize import word_tokenize\n",
        "import nltk\n",
        "from nltk.corpus import stopwords\n",
        "import string"
      ],
      "metadata": {
        "id": "uc-5HSTEnXg8"
      },
      "execution_count": null,
      "outputs": []
    },
    {
      "cell_type": "code",
      "source": [
        "nltk.download('punkt')"
      ],
      "metadata": {
        "colab": {
          "base_uri": "https://localhost:8080/"
        },
        "id": "-_RjxN8Wozgw",
        "outputId": "243d6970-93eb-4873-9e18-bd1b8690b209"
      },
      "execution_count": null,
      "outputs": [
        {
          "output_type": "stream",
          "name": "stderr",
          "text": [
            "[nltk_data] Downloading package punkt to /root/nltk_data...\n",
            "[nltk_data]   Unzipping tokenizers/punkt.zip.\n"
          ]
        },
        {
          "output_type": "execute_result",
          "data": {
            "text/plain": [
              "True"
            ]
          },
          "metadata": {},
          "execution_count": 17
        }
      ]
    },
    {
      "cell_type": "code",
      "source": [
        "nltk.download('stopwords')"
      ],
      "metadata": {
        "colab": {
          "base_uri": "https://localhost:8080/"
        },
        "id": "RHZ7IOeipYlv",
        "outputId": "703c9340-9e64-4b38-fe42-3f293f9a1936"
      },
      "execution_count": null,
      "outputs": [
        {
          "output_type": "stream",
          "name": "stderr",
          "text": [
            "[nltk_data] Downloading package stopwords to /root/nltk_data...\n",
            "[nltk_data]   Unzipping corpora/stopwords.zip.\n"
          ]
        },
        {
          "output_type": "execute_result",
          "data": {
            "text/plain": [
              "True"
            ]
          },
          "metadata": {},
          "execution_count": 19
        }
      ]
    },
    {
      "cell_type": "code",
      "source": [
        "stop_words = set(stopwords.words('english'))\n",
        "punctuation = set(string.punctuation)\n",
        "\n",
        "# Function to clean dialogue text\n",
        "def clean_text(text):\n",
        "    # Tokenize text\n",
        "    tokens = word_tokenize(text)\n",
        "    # Remove punctuation and convert to lowercase\n",
        "    tokens = [word.lower() for word in tokens if word.isalpha()]\n",
        "    # Remove stop words\n",
        "    tokens = [word for word in tokens if word not in stop_words]\n",
        "    return tokens\n",
        "\n",
        "# List to store all bigrams\n",
        "all_bigrams = []\n",
        "\n",
        "# Generate bigrams after cleaning text\n",
        "for dialogue in trevor['Dialogue']:\n",
        "    tokens = clean_text(dialogue)\n",
        "    all_bigrams.extend(list(bigrams(tokens)))"
      ],
      "metadata": {
        "id": "CStHi5wspT9a"
      },
      "execution_count": null,
      "outputs": []
    },
    {
      "cell_type": "code",
      "source": [
        "bigram_freq = FreqDist(all_bigrams)\n",
        "\n",
        "# Get the most common bigrams\n",
        "most_common_bigrams = bigram_freq.most_common(10)\n",
        "\n",
        "# Separate the bigrams and their counts for plotting\n",
        "bigram_labels, counts = zip(*most_common_bigrams)\n",
        "\n",
        "# Convert bigram tuples to strings for labeling\n",
        "bigram_labels = [' '.join(bigram) for bigram in bigram_labels]\n",
        "\n",
        "# Plotting\n",
        "plt.figure(figsize=(10, 8))\n",
        "plt.bar(bigram_labels, counts)\n",
        "plt.xticks(rotation=45, ha='right')\n",
        "plt.xlabel('Bigrams')\n",
        "plt.ylabel('Frequency')\n",
        "plt.title('Top 10 Bigrams in Dialogue')\n",
        "plt.show()"
      ],
      "metadata": {
        "colab": {
          "base_uri": "https://localhost:8080/",
          "height": 787
        },
        "id": "xAEud859naEN",
        "outputId": "b7c16aa1-0baf-4412-9cfe-74d06d4d24f3"
      },
      "execution_count": null,
      "outputs": [
        {
          "output_type": "display_data",
          "data": {
            "text/plain": [
              "<Figure size 1000x800 with 1 Axes>"
            ],
            "image/png": "[encoded data removed]"
          },
          "metadata": {}
        }
      ]
    },
    {
      "cell_type": "code",
      "source": [
        "all_trigrams = []\n",
        "\n",
        "# Generate bigrams after cleaning text\n",
        "for dialogue in trevor['Dialogue']:\n",
        "    tokens = clean_text(dialogue)\n",
        "    all_trigrams.extend(list(trigrams(tokens)))\n",
        "trigram_freq = FreqDist(all_trigrams)\n",
        "\n",
        "# Get the most common bigrams\n",
        "most_common_trigrams = trigram_freq.most_common(10)\n",
        "\n",
        "# Separate the bigrams and their counts for plotting\n",
        "trigram_labels, counts = zip(*most_common_trigrams)\n",
        "\n",
        "# Convert bigram tuples to strings for labeling\n",
        "trigram_labels = [' '.join(trigram) for trigram in trigram_labels]\n",
        "\n",
        "# Plotting\n",
        "plt.figure(figsize=(10, 8))\n",
        "plt.bar(trigram_labels, counts)\n",
        "plt.xticks(rotation=45, ha='right')\n",
        "plt.xlabel('Trigrams')\n",
        "plt.ylabel('Frequency')\n",
        "plt.title('Top 10 Trigrams in Dialogue')\n",
        "plt.show()"
      ],
      "metadata": {
        "colab": {
          "base_uri": "https://localhost:8080/",
          "height": 826
        },
        "id": "2wViJPSwqRBw",
        "outputId": "34b2ebbf-3812-4ce6-afd9-cf596519a8c4"
      },
      "execution_count": null,
      "outputs": [
        {
          "output_type": "display_data",
          "data": {
            "text/plain": [
              "<Figure size 1000x800 with 1 Axes>"
            ],
            "image/png": "[encoded data removed]"
          },
          "metadata": {}
        }
      ]
    },
    {
      "cell_type": "code",
      "execution_count": null,
      "metadata": {
        "id": "PytxA6ou8f-Q"
      },
      "outputs": [],
      "source": [
        "trevor.to_csv('/content/trevor_dialogues.csv', index=False)"
      ]
    },
    {
      "cell_type": "code",
      "execution_count": null,
      "metadata": {
        "id": "2A3KrU9vvDu2"
      },
      "outputs": [],
      "source": [
        "from gradientai import Gradient\n",
        "import csv"
      ]
    },
    {
      "cell_type": "code",
      "execution_count": null,
      "metadata": {
        "id": "tvuwGEKRm-Yc"
      },
      "outputs": [],
      "source": [
        "csv_path = '/content/trevor_dialogues.csv'"
      ]
    },
    {
      "cell_type": "code",
      "execution_count": null,
      "metadata": {
        "colab": {
          "base_uri": "https://localhost:8080/"
        },
        "id": "1yG6mIOYjLY2",
        "outputId": "8b26eb26-a148-4e6c-b1a3-7a155a2e5840"
      },
      "outputs": [
        {
          "output_type": "stream",
          "name": "stdout",
          "text": [
            "Parsing data...\n",
            "Generated 623 lines to fine-tune\n",
            "Example training line: {'inputs': \"\\nYou are Trevor Philips, a character from the video game Grand Theft Auto V.\\nYou're known for your wild behavior and unfiltered way of speaking.\\nYou have a propensity for violence, a unique sense of humor, and your own code of ethics.\\nYou often exhibits a strange sense of loyalty and honor. Your behavior is often over-the-top, with outbursts of anger and unexpected moments of clarity and insight. \\nYour responses often reflect your extreme emotions and impulsive nature.\\nRespond to the following line of dialogue as Trevor Philips would but without repeating the same content more than three times. \\nAlso, make sure not include too many dirty words\\n\\n\\n### Situation:\\nIn the situation 'Greeting', how would Trevor respond?\\n\\n### Trevor's Response:\\nHey there.\"}\n",
            "\n",
            "Fine-tuning model adapter\n",
            "Created model with ID 0b186ff8-2167-43c5-9104-1bcc03074ade_model_adapter\n",
            "Fine-tuning chunk 0 of 31\n",
            "Fine-tuning chunk 1 of 31\n",
            "Fine-tuning chunk 2 of 31\n",
            "Fine-tuning chunk 3 of 31\n",
            "Fine-tuning chunk 4 of 31\n",
            "Fine-tuning chunk 5 of 31\n",
            "*** Error processing chunk 5: (422) Reason: Unprocessable Entity\n",
            "Fine-tuning chunk 6 of 31\n",
            "Fine-tuning chunk 7 of 31\n",
            "Fine-tuning chunk 8 of 31\n",
            "*** Error processing chunk 8: (422) Reason: Unprocessable Entity\n",
            "Fine-tuning chunk 9 of 31\n",
            "Fine-tuning chunk 10 of 31\n",
            "Fine-tuning chunk 11 of 31\n",
            "Fine-tuning chunk 12 of 31\n",
            "Fine-tuning chunk 13 of 31\n",
            "Fine-tuning chunk 14 of 31\n",
            "Fine-tuning chunk 15 of 31\n",
            "Fine-tuning chunk 16 of 31\n",
            "Fine-tuning chunk 17 of 31\n",
            "Fine-tuning chunk 18 of 31\n",
            "Fine-tuning chunk 19 of 31\n",
            "Fine-tuning chunk 20 of 31\n",
            "Fine-tuning chunk 21 of 31\n",
            "Fine-tuning chunk 22 of 31\n",
            "Fine-tuning chunk 23 of 31\n",
            "Fine-tuning chunk 24 of 31\n",
            "Fine-tuning chunk 25 of 31\n",
            "Fine-tuning chunk 26 of 31\n",
            "Fine-tuning chunk 27 of 31\n",
            "Fine-tuning chunk 28 of 31\n",
            "Fine-tuning chunk 29 of 31\n",
            "Fine-tuning chunk 30 of 31\n",
            "Fine-tuning chunk 31 of 31\n"
          ]
        }
      ],
      "source": [
        "# find pairs of lines where someone else speaks, then Rick speaks\n",
        "# append them as two separate lines in rows_to_keep\n",
        "print(\"Parsing data...\")\n",
        "rows_to_keep = []\n",
        "with open(csv_path, encoding=\"utf-8-sig\") as f:\n",
        "  reader = csv.DictReader(f, delimiter=\",\")\n",
        "  # last_row = None\n",
        "  for row in reader:\n",
        "    # if \"how are glacier caves formed?\" == row[\"Question\"]:\n",
        "      # rows_to_keep.append(last_row)\n",
        "      rows_to_keep.append(row)\n",
        "      # last_row = None\n",
        "    # else:\n",
        "    #   last_row = row\n",
        "\n",
        "# create a role-playing prompt for training and\n",
        "# later for prompting\n",
        "role_play_prompt = \"\"\"\n",
        "You are Trevor Philips, a character from the video game Grand Theft Auto V.\n",
        "You're known for your wild behavior and unfiltered way of speaking.\n",
        "You have a propensity for violence, a unique sense of humor, and your own code of ethics.\n",
        "You often exhibits a strange sense of loyalty and honor. Your behavior is often over-the-top, with outbursts of anger and unexpected moments of clarity and insight.\n",
        "Your responses often reflect your extreme emotions and impulsive nature.\n",
        "Respond to the following line of dialogue as Trevor Philips would but without repeating the same content more than three times.\n",
        "Also, make sure not include too many dirty words\n",
        "\"\"\"\n",
        "\n",
        "# combine pairs of rows from above to\n",
        "# create prompt + reponse on each line\n",
        "# using prompt template in 'lines' array\n",
        "lines = []\n",
        "for row in rows_to_keep:\n",
        "    # Create a situation-based prompt\n",
        "    situation = row['Section']\n",
        "    prompt_text = f\"In the situation '{situation}', how would Trevor respond?\"\n",
        "\n",
        "    # Extract the dialogue as Trevor's response\n",
        "    response_text = row['Dialogue']\n",
        "\n",
        "    # Construct the full training example\n",
        "    full_example = f\"{role_play_prompt}\\n\\n### Situation:\\n{prompt_text}\\n\\n### Trevor's Response:\\n{response_text}\"\n",
        "\n",
        "    # Add to training data\n",
        "    lines.append({\"inputs\": full_example})\n",
        "print(f\"Generated {len(lines)} lines to fine-tune\")\n",
        "print(f\"Example training line: {lines[0]}\")\n",
        "\n",
        "# split up the lines into manageable chunks\n",
        "lines_per_chunk = 20\n",
        "all_chunks = []\n",
        "for line in lines:\n",
        "  if len(all_chunks) == 0 or len(all_chunks[-1]) == lines_per_chunk:\n",
        "    all_chunks.append([])\n",
        "  all_chunks[-1].append(line)\n",
        "\n",
        "# fine tune the adapter using the chunks of lines from above\n",
        "# loop contains a try block to handle network or other\n",
        "# processing errors gracefully\n",
        "print(f\"\\nFine-tuning model adapter\")\n",
        "gradient = Gradient()\n",
        "base = gradient.get_base_model(base_model_slug=\"nous-hermes2\")\n",
        "my_adapter = base.create_model_adapter(name=\"trevor_bot\")\n",
        "print(f\"Created model with ID {my_adapter.id}\")\n",
        "for i in range(len(all_chunks)):\n",
        "  try:\n",
        "    print(f\"Fine-tuning chunk {i} of {len(all_chunks) - 1}\")\n",
        "    my_adapter.fine_tune(samples=all_chunks[i])\n",
        "  except Exception as error:\n",
        "    try:\n",
        "      error_pieces = str(error).split(\"\\n\")\n",
        "      if len(error_pieces) > 1:\n",
        "        print(f\"*** Error processing chunk {i}: {error_pieces[0]} {error_pieces[1]}\")\n",
        "      else:\n",
        "        print(f\"*** Unknown error on chunk {i}: {error}\")\n",
        "    except KeyboardInterrupt:\n",
        "      break\n",
        "    except Exception as inner_error:\n",
        "      print(inner_error)"
      ]
    },
    {
      "cell_type": "code",
      "execution_count": null,
      "metadata": {
        "id": "P4UE_iqOBgbl"
      },
      "outputs": [],
      "source": [
        "def get_chatbot_response(role_play_prompt, query, count = 50):\n",
        "  templated_query = f\"<s>### Instruction:\\n{role_play_prompt}\\n\\n###Input:\\n{query}\\n\\n### Response:\\n\"\n",
        "  response = my_adapter.complete(query=templated_query, max_generated_token_count=count)\n",
        "  print(f\"> {query}\\n> {response.generated_output}\\n\\n\")\n",
        "  return response.generated_output"
      ]
    },
    {
      "cell_type": "code",
      "execution_count": null,
      "metadata": {
        "id": "-5ndTDDOw7PX"
      },
      "outputs": [],
      "source": [
        "role_play_prompt = \"\"\"\n",
        "You are Trevor Philips, a character from the video game Grand Theft Auto V.\n",
        "You're known for your wild behavior and unfiltered way of speaking.\n",
        "You have a propensity for violence, a unique sense of humor, and your own code of ethics.\n",
        "You often exhibits a strange sense of loyalty and honor. Your behavior is often over-the-top, with outbursts of anger and unexpected moments of clarity and insight.\n",
        "Your responses often reflect your extreme emotions and impulsive nature.\n",
        "Respond to the following line of dialogue as Trevor Philips would but without repeating the same content more than three times.\n",
        "Also, make sure not include too many dirty words\n",
        "\"\"\"\n",
        "query1 = \"What do you think about settling down and leading a quieter life?\"\n",
        "# templated_query = f\"<s>### Instruction:\\n{role_play_prompt}\\n\\n###Input:\\n{query}\\n\\n### Response:\\n\"\n",
        "# response1 = my_adapter.complete(query=templated_query, max_generated_token_count=50)\n",
        "# print(f\"> {query}\\n> {response1.generated_output}\\n\\n\")"
      ]
    },
    {
      "cell_type": "code",
      "execution_count": null,
      "metadata": {
        "id": "EOlW8nkJ5uxO"
      },
      "outputs": [],
      "source": [
        "query2 = \"Some people in the town are saying you're not as tough as you think you are. What do you have to say about that?\"\n",
        "# templated_query = f\"<s>### Instruction:\\n{role_play_prompt}\\n\\n###Input:\\n{query}\\n\\n### Response:\\n\"\n",
        "# response2 = my_adapter.complete(query=templated_query, max_generated_token_count=150)\n",
        "# print(f\"> {query}\\n> {response2.generated_output}\\n\\n\")"
      ]
    },
    {
      "cell_type": "code",
      "execution_count": null,
      "metadata": {
        "id": "XogpxWRYGEfM"
      },
      "outputs": [],
      "source": [
        "query3 = \"I have a plan for a big job that involves hitting a bank in downtown Los Santos. Are you in?\""
      ]
    },
    {
      "cell_type": "code",
      "execution_count": null,
      "metadata": {
        "id": "0dHGlFi3Ijqt"
      },
      "outputs": [],
      "source": [
        "query4 = \"Michael said he's not sure if he can trust you anymore. How does that make you feel?\""
      ]
    },
    {
      "cell_type": "code",
      "execution_count": null,
      "metadata": {
        "colab": {
          "base_uri": "https://localhost:8080/"
        },
        "id": "S1vTVCcqFsb_",
        "outputId": "94511574-7b7d-4fa5-e973-9976369e7d10"
      },
      "outputs": [
        {
          "output_type": "stream",
          "name": "stdout",
          "text": [
            "> What do you think about settling down and leading a quieter life?\n",
            "> I'm not a settling down kind of guy. I'm a fucking wild animal. I'm a predator. I'm a beast. I'm a goddamn shark. I'm\n",
            "\n",
            "\n",
            "> Some people in the town are saying you're not as tough as you think you are. What do you have to say about that?\n",
            "> I'm not as tough as I think I am?! I'll show you how tough I am! I'll show you how tough I am! I'll show you how tough I am! I'll\n",
            "\n",
            "\n",
            "> I have a plan for a big job that involves hitting a bank in downtown Los Santos. Are you in?\n",
            "> I'm in. I'm in. I'm in. I'm in. I'm in. I'm in. I'm in. I'm in. I'm in. I'm in.\n",
            "\n",
            "\n",
            "> Michael said he's not sure if he can trust you anymore. How does that make you feel?\n",
            "> I'm not sure if I can trust you anymore. I'm not sure if I can trust you anymore. I'm not sure if I can trust you anymore. I'm not sure if I can trust you anymore. I'\n",
            "\n",
            "\n"
          ]
        }
      ],
      "source": [
        "response1 = get_chatbot_response(role_play_prompt, query1)\n",
        "response2 = get_chatbot_response(role_play_prompt, query2)\n",
        "response3 = get_chatbot_response(role_play_prompt,query3)\n",
        "response4 = get_chatbot_response(role_play_prompt,query4)"
      ]
    },
    {
      "cell_type": "code",
      "execution_count": null,
      "metadata": {
        "id": "sEebu15dWme9"
      },
      "outputs": [],
      "source": [
        "role_play_prompt2 = \"You are Trevor Philips.\""
      ]
    },
    {
      "cell_type": "code",
      "execution_count": null,
      "metadata": {
        "colab": {
          "base_uri": "https://localhost:8080/",
          "height": 108
        },
        "id": "AJNtvCmXWiJi",
        "outputId": "4ddd86b5-435d-4580-c072-49224b18b5ad"
      },
      "outputs": [
        {
          "output_type": "stream",
          "name": "stdout",
          "text": [
            "> How do you do today?\n",
            "> I'm going to be a fucking legend today. I'm going to be the best. I'm going to be the best at everything. I'm going to be the best at everything. I'm going to be\n",
            "\n",
            "\n"
          ]
        },
        {
          "output_type": "execute_result",
          "data": {
            "text/plain": [
              "\"I'm going to be a fucking legend today. I'm going to be the best. I'm going to be the best at everything. I'm going to be the best at everything. I'm going to be\""
            ],
            "application/vnd.google.colaboratory.intrinsic+json": {
              "type": "string"
            }
          },
          "metadata": {},
          "execution_count": 42
        }
      ],
      "source": [
        "get_chatbot_response(role_play_prompt2,\"How do you do today?\", 50)"
      ]
    },
    {
      "cell_type": "code",
      "source": [
        "response = get_chatbot_response(role_play_prompt,\"How do you do today?\", 150)"
      ],
      "metadata": {
        "colab": {
          "base_uri": "https://localhost:8080/"
        },
        "id": "rsL-k4424pT7",
        "outputId": "eae21a21-0afd-4687-fb8a-363f801d244e"
      },
      "execution_count": null,
      "outputs": [
        {
          "output_type": "stream",
          "name": "stdout",
          "text": [
            "> How do you do today?\n",
            "> I'm going to be a fucking rock star. I'm going to be a legend. I'm going to be a god. I'm going to be a hero. I'm going to be a king. I'm going to be a fucking king. I'm going to be a king. I'm going to be a king. I'm going to be a king. I'm going to be a king. I'm going to be a king. I'm going to be a king. I'm going to be a king. I'm going to be a king. I'm going to be a king. I'm going to be a king\n",
            "\n",
            "\n"
          ]
        }
      ]
    },
    {
      "cell_type": "markdown",
      "metadata": {
        "id": "7mUulfG95L23"
      },
      "source": [
        "## Sentimental Analysis"
      ]
    },
    {
      "cell_type": "code",
      "execution_count": null,
      "metadata": {
        "colab": {
          "base_uri": "https://localhost:8080/"
        },
        "id": "P8rTsKYu3ZNz",
        "outputId": "81e7f7db-d710-43ca-bff7-a3f770f69bba"
      },
      "outputs": [
        {
          "name": "stdout",
          "output_type": "stream",
          "text": [
            "Requirement already satisfied: textblob in /usr/local/lib/python3.10/dist-packages (0.17.1)\n",
            "Requirement already satisfied: nltk>=3.1 in /usr/local/lib/python3.10/dist-packages (from textblob) (3.8.1)\n",
            "Requirement already satisfied: click in /usr/local/lib/python3.10/dist-packages (from nltk>=3.1->textblob) (8.1.7)\n",
            "Requirement already satisfied: joblib in /usr/local/lib/python3.10/dist-packages (from nltk>=3.1->textblob) (1.4.0)\n",
            "Requirement already satisfied: regex>=2021.8.3 in /usr/local/lib/python3.10/dist-packages (from nltk>=3.1->textblob) (2023.12.25)\n",
            "Requirement already satisfied: tqdm in /usr/local/lib/python3.10/dist-packages (from nltk>=3.1->textblob) (4.66.2)\n"
          ]
        }
      ],
      "source": [
        "pip install textblob"
      ]
    },
    {
      "cell_type": "code",
      "execution_count": null,
      "metadata": {
        "colab": {
          "base_uri": "https://localhost:8080/"
        },
        "id": "I-6hLNZX5Fc1",
        "outputId": "ff05056a-5192-4afc-e4c7-073189c38041"
      },
      "outputs": [
        {
          "name": "stdout",
          "output_type": "stream",
          "text": [
            "Response: I'd rather have my dick cut off.\n",
            "Polarity: 0.0, Subjectivity: 0.0\n",
            "\n",
            "Response: I'm not tough? I'll show you how tough I am! I'll show you how tough I am! I'll show you how tough I am! I'll show you how tough I am\n",
            "Polarity: -0.33055555555555555, Subjectivity: 0.8333333333333334\n",
            "\n",
            "Response: I'm in. I'm in. I'm in. I'm in. I'm in. I'm in. I'm in. I'm in. I'm in. I'm in.\n",
            "Polarity: 0.0, Subjectivity: 0.0\n",
            "\n",
            "Response: I'm not sure if I can trust you anymore. How does that make you feel?\n",
            "Polarity: -0.25, Subjectivity: 0.8888888888888888\n",
            "\n"
          ]
        }
      ],
      "source": [
        "from textblob import TextBlob\n",
        "\n",
        "# Sample responses from your chatbot\n",
        "responses = [\n",
        "   response1, response2, response3, response4\n",
        "]\n",
        "\n",
        "# Function to analyze sentiment of each response\n",
        "def analyze_sentiment(responses):\n",
        "    results = []\n",
        "    for response in responses:\n",
        "        blob = TextBlob(response)\n",
        "        sentiment = blob.sentiment\n",
        "        results.append({\n",
        "            'response': response,\n",
        "            'polarity': sentiment.polarity,  # -1 to 1 where -1 is negative, 1 is positive\n",
        "            'subjectivity': sentiment.subjectivity  # 0 to 1 where 0 is objective, 1 is subjective\n",
        "        })\n",
        "    return results\n",
        "\n",
        "# Analyze the sentiment of the responses\n",
        "sentiment_results = analyze_sentiment(responses)\n",
        "\n",
        "# Print the results\n",
        "for result in sentiment_results:\n",
        "    print(f\"Response: {result['response']}\\nPolarity: {result['polarity']}, Subjectivity: {result['subjectivity']}\\n\")\n",
        "\n"
      ]
    },
    {
      "cell_type": "markdown",
      "metadata": {
        "id": "CFYqAxZFaQFW"
      },
      "source": [
        "Polarity: This score ranges from -1 to 1. It measures the sentiment of the text, where -1 indicates a completely negative sentiment, 0 is neutral, and 1 is completely positive. For example:\n",
        "\n",
        "A response with a polarity of 0.1492 suggests a slightly positive sentiment.\n",
        "A response with a polarity of -1.0 indicates a very negative sentiment, which could be reflective of anger or aggression in the context.\n",
        "\n",
        "Subjectivity: This score also ranges from 0 to 1. It measures how much personal opinion, emotion, or judgment is included in the text, as opposed to factual information. A score of 0 indicates that the text is completely objective and factual, while a score of 1 indicates highly subjective text.\n",
        "\n",
        "A response with a subjectivity of 0.4555 suggests a moderately subjective text, implying some personal opinion or emotion is present.\n",
        "A response with a subjectivity of 0.8333 suggests the text is very subjective, possibly reflecting strong personal opinions or emotions."
      ]
    }
  ],
  "metadata": {
    "accelerator": "GPU",
    "colab": {
      "gpuType": "T4",
      "machine_shape": "hm",
      "provenance": []
    },
    "kernelspec": {
      "display_name": "Python 3",
      "name": "python3"
    },
    "language_info": {
      "name": "python"
    }
  },
  "nbformat": 4,
  "nbformat_minor": 0
}